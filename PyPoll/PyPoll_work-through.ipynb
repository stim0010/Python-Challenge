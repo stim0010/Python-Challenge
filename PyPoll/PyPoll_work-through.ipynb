{
 "cells": [
  {
   "cell_type": "code",
   "execution_count": 1,
   "id": "2468ad85",
   "metadata": {},
   "outputs": [],
   "source": [
    "import csv\n",
    "import os"
   ]
  },
  {
   "cell_type": "code",
   "execution_count": 2,
   "id": "ca168e92",
   "metadata": {},
   "outputs": [],
   "source": [
    "data_file = os.path.join(\"Resources\", \"election_data.csv\")\n",
    "rlts_file = os.path.join(\"Analysis\", \"election_analysis.txt\")"
   ]
  },
  {
   "cell_type": "code",
   "execution_count": 3,
   "id": "45e3b6bf",
   "metadata": {},
   "outputs": [
    {
     "name": "stdout",
     "output_type": "stream",
     "text": [
      "Resources\\election_data.csv\n",
      "Analysis\\election_analysis.txt\n"
     ]
    }
   ],
   "source": [
    "print(data_file)\n",
    "print(rlts_file)"
   ]
  },
  {
   "cell_type": "code",
   "execution_count": 4,
   "id": "a76054a5",
   "metadata": {},
   "outputs": [],
   "source": [
    "total_votes = 0"
   ]
  },
  {
   "cell_type": "code",
   "execution_count": 5,
   "id": "96d6f193",
   "metadata": {},
   "outputs": [],
   "source": [
    "candidate_options = []\n",
    "candidate_votes = {}"
   ]
  },
  {
   "cell_type": "code",
   "execution_count": 6,
   "id": "7977b46b",
   "metadata": {},
   "outputs": [],
   "source": [
    "winning_candidate = \"\"\n",
    "winning_count = 0 "
   ]
  },
  {
   "cell_type": "code",
   "execution_count": 7,
   "id": "411e13f0",
   "metadata": {},
   "outputs": [],
   "source": [
    "with open(data_file) as election_data:\n",
    "    \n",
    "    reader = csv.reader(election_data)\n",
    "    header =next(reader)\n",
    "    \n",
    "    for row in reader:\n",
    "        \n",
    "        total_votes += 1\n",
    "        candidate_name = row[2]\n",
    "        \n",
    "        if candidate_name not in candidate_options:\n",
    "            \n",
    "            candidate_options.append(candidate_name)\n",
    "            \n",
    "            candidate_votes[candidate_name] = 0\n",
    "        \n",
    "        candidate_votes[candidate_name] = candidate_votes[candidate_name] + 1\n",
    "        "
   ]
  },
  {
   "cell_type": "code",
   "execution_count": 17,
   "id": "ceacc843",
   "metadata": {},
   "outputs": [
    {
     "name": "stdout",
     "output_type": "stream",
     "text": [
      "\n",
      "\n",
      "Election Results\n",
      "--------------------\n",
      "Total Votes: 3521001\n",
      "---------------------\n",
      "Khan: 63.000% (2218231)\n",
      "Correy: 20.000% (704200)\n",
      "Li: 14.000% (492940)\n",
      "O'Tooley: 3.000% (105630)\n",
      "-------------------------------\n",
      "Winner: Khan\n",
      "------------------------------\n",
      "\n"
     ]
    }
   ],
   "source": [
    "with open(rlts_file, \"w\") as txt_file:\n",
    "    \n",
    "    election_results = (\n",
    "        f\"\\n\\nElection Results\\n\"\n",
    "        f\"--------------------\\n\"\n",
    "        f\"Total Votes: {total_votes}\\n\"\n",
    "        f\"---------------------\\n\")\n",
    "    print(election_results, end=\"\")\n",
    "    \n",
    "    txt_file.write(election_results)\n",
    "    \n",
    "    for candidate in candidate_votes:\n",
    "\n",
    "            votes = candidate_votes.get(candidate)\n",
    "            vote_percentage = float(votes) / float(total_votes) * 100\n",
    "\n",
    "            if (votes > winning_count):\n",
    "                winning_count = votes\n",
    "                winning_candidate = candidate\n",
    "\n",
    "            voter_output =f\"{candidate}: {vote_percentage:.3f}% ({votes})\\n\"\n",
    "            print(voter_output, end=\"\")\n",
    "\n",
    "            txt_file.write(voter_output)\n",
    "\n",
    "    winning_candidate_summary = (\n",
    "         f\"-------------------------------\\n\"\n",
    "         f\"Winner: {winning_candidate}\\n\"\n",
    "         f\"------------------------------\\n\")\n",
    "\n",
    "    print(winning_candidate_summary)\n",
    "\n",
    "    txt_file.write(winning_candidate_summary)    "
   ]
  },
  {
   "cell_type": "code",
   "execution_count": null,
   "id": "dec081ba",
   "metadata": {},
   "outputs": [],
   "source": []
  }
 ],
 "metadata": {
  "kernelspec": {
   "display_name": "Python 3",
   "language": "python",
   "name": "python3"
  },
  "language_info": {
   "codemirror_mode": {
    "name": "ipython",
    "version": 3
   },
   "file_extension": ".py",
   "mimetype": "text/x-python",
   "name": "python",
   "nbconvert_exporter": "python",
   "pygments_lexer": "ipython3",
   "version": "3.6.10"
  }
 },
 "nbformat": 4,
 "nbformat_minor": 5
}
